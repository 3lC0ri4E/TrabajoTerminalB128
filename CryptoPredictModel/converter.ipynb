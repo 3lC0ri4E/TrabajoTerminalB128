{
 "cells": [
  {
   "cell_type": "code",
   "execution_count": 20,
   "metadata": {},
   "outputs": [
    {
     "name": "stdout",
     "output_type": "stream",
     "text": [
      "Modelo guardado en ./tfjs_model\n"
     ]
    }
   ],
   "source": [
    "from tensorflow.keras.models import load_model\n",
    "import tensorflowjs as tfjs\n",
    "\n",
    "try:\n",
    "    model = load_model('model3.h5')    \n",
    "    output_dir = './tfjs_model'\n",
    "    tfjs.converters.save_keras_model(model, output_dir)\n",
    "    \n",
    "    print(f\"Modelo guardado en {output_dir}\")\n",
    "except Exception as e:\n",
    "    print(f\"Error durante la conversion del modelo: {e}\")\n"
   ]
  },
  {
   "cell_type": "code",
   "execution_count": 26,
   "metadata": {},
   "outputs": [
    {
     "name": "stdout",
     "output_type": "stream",
     "text": [
      "Ultimos precios de Binance:\n",
      "[[91850.  ]\n",
      " [91779.66]\n",
      " [91449.99]\n",
      " [92594.  ]\n",
      " [93905.51]\n",
      " [94831.97]\n",
      " [94977.  ]]\n"
     ]
    }
   ],
   "source": [
    "import requests\n",
    "import numpy as np\n",
    "\n",
    "symbol = 'BTCUSDT'  \n",
    "interval = '1d'     \n",
    "limit = 7   \n",
    "\n",
    "url = f'https://api.binance.com/api/v3/klines?symbol={symbol}&interval={interval}&limit={limit}'\n",
    "\n",
    "response = requests.get(url)\n",
    "data = response.json()\n",
    "\n",
    "last_7_prices = [float(entry[2]) for entry in data]\n",
    "\n",
    "last_7_prices = np.array(last_7_prices).reshape(-1, 1)\n",
    "\n",
    "print(\"Ultimos precios de Binance:\")\n",
    "print(last_7_prices)\n"
   ]
  },
  {
   "cell_type": "code",
   "execution_count": null,
   "metadata": {},
   "outputs": [
    {
     "name": "stdout",
     "output_type": "stream",
     "text": [
      "[[0.11341334]\n",
      " [0.09347011]\n",
      " [0.        ]\n",
      " [0.32435689]\n",
      " [0.69620443]\n",
      " [0.95888018]\n",
      " [1.        ]]\n",
      "Predicted Price: 94541.8828125\n"
     ]
    }
   ],
   "source": [
    "import numpy as np\n",
    "from tensorflow.keras.models import load_model\n",
    "from sklearn.preprocessing import MinMaxScaler\n",
    "\n",
    "# Load or define your scaler if you used one during training\n",
    "scaler = MinMaxScaler(feature_range=(0, 1))\n",
    "\n",
    "# Scale the sequence\n",
    "scaled_input = scaler.fit_transform(last_7_prices)\n",
    "\n",
    "# Reshape input to (1, sequence_length, features) as expected by the model\n",
    "scaled_input = scaled_input.reshape((1, limit, 1)) \n",
    "\n",
    "# Predict the next value\n",
    "predicted_scaled = model.predict(scaled_input)\n",
    "\n",
    "# Inverse transform to get the actual price prediction\n",
    "predicted_price = scaler.inverse_transform(predicted_scaled)\n",
    "\n",
    "print(f\"Predicted Price: {predicted_price[0][0]}\")\n"
   ]
  },
  {
   "cell_type": "code",
   "execution_count": null,
   "metadata": {},
   "outputs": [
    {
     "name": "stdout",
     "output_type": "stream",
     "text": [
      "Probabilidad de subida: 84.73%\n",
      "Probabilidad de bajada: 15.27%\n"
     ]
    }
   ],
   "source": [
    "import numpy as np\n",
    "\n",
    "predicciones = last_7_prices.copy()\n",
    "predicciones = np.append(predicciones, predicted_price[0][0])\n",
    "\n",
    "predicciones = np.array(predicciones.flatten())\n",
    "\n",
    "diferencias = np.diff(predicciones)\n",
    "\n",
    "min_diff = np.min(diferencias)\n",
    "max_diff = np.max(diferencias)\n",
    "scaled_diferencias = (diferencias - min_diff) / (max_diff - min_diff)\n",
    "\n",
    "scaled_subida = np.where(diferencias > 0, scaled_diferencias, 0)  \n",
    "scaled_bajada = np.where(diferencias <= 0, scaled_diferencias, 0) \n",
    "\n",
    "total_scaled = np.sum(scaled_diferencias)\n",
    "\n",
    "probabilidad_subida = np.sum(scaled_subida) / total_scaled\n",
    "probabilidad_bajada = np.sum(scaled_bajada) / total_scaled\n",
    "\n",
    "print(f\"Probabilidad de subida: {probabilidad_subida * 100:.2f}%\")\n",
    "print(f\"Probabilidad de bajada: {probabilidad_bajada * 100:.2f}%\")\n"
   ]
  }
 ],
 "metadata": {
  "kernelspec": {
   "display_name": "myenv",
   "language": "python",
   "name": "python3"
  },
  "language_info": {
   "codemirror_mode": {
    "name": "ipython",
    "version": 3
   },
   "file_extension": ".py",
   "mimetype": "text/x-python",
   "name": "python",
   "nbconvert_exporter": "python",
   "pygments_lexer": "ipython3",
   "version": "3.8.10"
  }
 },
 "nbformat": 4,
 "nbformat_minor": 2
}
