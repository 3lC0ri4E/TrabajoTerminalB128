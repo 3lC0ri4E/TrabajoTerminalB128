{
 "cells": [
  {
   "cell_type": "code",
   "execution_count": 1,
   "metadata": {},
   "outputs": [
    {
     "name": "stdout",
     "output_type": "stream",
     "text": [
      "Modelo guardado en ./tfjs_model\n"
     ]
    }
   ],
   "source": [
    "from tensorflow.keras.models import load_model\n",
    "import tensorflowjs as tfjs\n",
    "\n",
    "try:\n",
    "    model = load_model('model.h5')    \n",
    "    output_dir = './tfjs_model'\n",
    "    tfjs.converters.save_keras_model(model, output_dir)\n",
    "    \n",
    "    print(f\"Modelo guardado en {output_dir}\")\n",
    "except Exception as e:\n",
    "    print(f\"Error durante la conversion del modelo: {e}\")\n"
   ]
  },
  {
   "cell_type": "code",
   "execution_count": 2,
   "metadata": {},
   "outputs": [
    {
     "name": "stdout",
     "output_type": "stream",
     "text": [
      "Last 60 prices fetched from Binance:\n",
      "[[64133.32]\n",
      " [63559.9 ]\n",
      " [64000.  ]\n",
      " [64745.88]\n",
      " [64688.  ]\n",
      " [64817.99]\n",
      " [65839.  ]\n",
      " [66498.  ]\n",
      " [66260.  ]\n",
      " [66076.12]\n",
      " [65618.8 ]\n",
      " [64130.63]\n",
      " [62390.31]\n",
      " [61477.19]\n",
      " [62484.85]\n",
      " [62370.56]\n",
      " [62975.  ]\n",
      " [64478.19]\n",
      " [63200.  ]\n",
      " [62543.75]\n",
      " [61321.68]\n",
      " [63417.56]\n",
      " [63480.  ]\n",
      " [63285.72]\n",
      " [66500.  ]\n",
      " [67950.  ]\n",
      " [68424.  ]\n",
      " [67939.4 ]\n",
      " [69000.  ]\n",
      " [68693.26]\n",
      " [69400.  ]\n",
      " [69519.52]\n",
      " [67836.01]\n",
      " [67472.83]\n",
      " [68850.  ]\n",
      " [68771.49]\n",
      " [67454.55]\n",
      " [68332.05]\n",
      " [70270.  ]\n",
      " [73620.12]\n",
      " [72961.  ]\n",
      " [72700.  ]\n",
      " [71632.95]\n",
      " [69914.37]\n",
      " [69391.  ]\n",
      " [69500.  ]\n",
      " [70577.91]\n",
      " [76400.  ]\n",
      " [76849.99]\n",
      " [77199.99]\n",
      " [76900.  ]\n",
      " [81500.  ]\n",
      " [89530.54]\n",
      " [89940.  ]\n",
      " [93265.64]\n",
      " [91790.  ]\n",
      " [91850.  ]\n",
      " [91779.66]\n",
      " [91449.99]\n",
      " [92594.  ]]\n"
     ]
    }
   ],
   "source": [
    "import requests\n",
    "import numpy as np\n",
    "\n",
    "symbol = 'BTCUSDT'  \n",
    "interval = '1d'     \n",
    "limit = 60    \n",
    "\n",
    "url = f'https://api.binance.com/api/v3/klines?symbol={symbol}&interval={interval}&limit={limit}'\n",
    "\n",
    "response = requests.get(url)\n",
    "data = response.json()\n",
    "\n",
    "\n",
    "last_60_prices = [float(entry[2]) for entry in data]\n",
    "\n",
    "last_60_prices = np.array(last_60_prices).reshape(-1, 1)\n",
    "\n",
    "print(\"Last 60 prices fetched from Binance:\")\n",
    "print(last_60_prices)\n"
   ]
  },
  {
   "cell_type": "code",
   "execution_count": 3,
   "metadata": {},
   "outputs": [
    {
     "name": "stdout",
     "output_type": "stream",
     "text": [
      "Predicted Price: 90571.078125\n"
     ]
    }
   ],
   "source": [
    "import numpy as np\n",
    "from tensorflow.keras.models import load_model\n",
    "from sklearn.preprocessing import MinMaxScaler\n",
    "\n",
    "# Load the model\n",
    "model = load_model('model.h5')\n",
    "\n",
    "# Load or define your scaler if you used one during training\n",
    "scaler = MinMaxScaler(feature_range=(0, 1))\n",
    "\n",
    "# Example sequence of the last 60 prices (replace with your actual data)\n",
    "# This sequence should be the same length as your model’s required input sequence length\n",
    "last_60_prices = np.array(last_60_prices).reshape(-1, 1)\n",
    "\n",
    "# Scale the sequence\n",
    "scaled_input = scaler.fit_transform(last_60_prices)\n",
    "\n",
    "# Reshape input to (1, sequence_length, features) as expected by the model\n",
    "scaled_input = scaled_input.reshape((1, 60, 1))  # Adjust 60 if your sequence length is different\n",
    "\n",
    "# Predict the next value\n",
    "predicted_scaled = model.predict(scaled_input)\n",
    "\n",
    "# Inverse transform to get the actual price prediction\n",
    "predicted_price = scaler.inverse_transform(predicted_scaled)\n",
    "\n",
    "print(f\"Predicted Price: {predicted_price[0][0]}\")"
   ]
  }
 ],
 "metadata": {
  "kernelspec": {
   "display_name": "myenv",
   "language": "python",
   "name": "python3"
  },
  "language_info": {
   "codemirror_mode": {
    "name": "ipython",
    "version": 3
   },
   "file_extension": ".py",
   "mimetype": "text/x-python",
   "name": "python",
   "nbconvert_exporter": "python",
   "pygments_lexer": "ipython3",
   "version": "3.8.10"
  }
 },
 "nbformat": 4,
 "nbformat_minor": 2
}
