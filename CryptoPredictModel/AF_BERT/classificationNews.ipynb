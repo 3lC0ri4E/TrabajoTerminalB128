{
 "cells": [
  {
   "cell_type": "markdown",
   "id": "47b1e0cb-2ffd-4e9e-8843-749012690604",
   "metadata": {},
   "source": [
    "Classification of BTC news with the pretrained model."
   ]
  },
  {
   "cell_type": "code",
   "execution_count": 1,
   "id": "0dbdb13b-e7d7-41e7-a3b4-b6749d96c440",
   "metadata": {},
   "outputs": [
    {
     "name": "stderr",
     "output_type": "stream",
     "text": [
      "C:\\Users\\asael\\anaconda3\\Lib\\site-packages\\transformers\\utils\\generic.py:260: UserWarning: torch.utils._pytree._register_pytree_node is deprecated. Please use torch.utils._pytree.register_pytree_node instead.\n",
      "  torch.utils._pytree._register_pytree_node(\n",
      "C:\\Users\\asael\\anaconda3\\Lib\\site-packages\\transformers\\utils\\generic.py:260: UserWarning: torch.utils._pytree._register_pytree_node is deprecated. Please use torch.utils._pytree.register_pytree_node instead.\n",
      "  torch.utils._pytree._register_pytree_node(\n"
     ]
    }
   ],
   "source": [
    "import torch\n",
    "from transformers import BertTokenizer, BertForSequenceClassification\n",
    "import pandas as pd\n",
    "# Loading the model and tokenizer.\n",
    "#model = BertForSequenceClassification.from_pretrained('kk08/CryptoBERT')\n",
    "#tokenizer = BertTokenizer.from_pretrained('kk08/CryptoBERT')\n",
    "model = BertForSequenceClassification.from_pretrained('pretrainedModel')\n",
    "tokenizer = BertTokenizer.from_pretrained('pretrainedTokenizer')"
   ]
  },
  {
   "cell_type": "code",
   "execution_count": 2,
   "id": "de10e609-54d3-4079-bee4-611bcf8aaf7f",
   "metadata": {},
   "outputs": [
    {
     "name": "stdout",
     "output_type": "stream",
     "text": [
      "WARNING:tensorflow:From C:\\Users\\asael\\anaconda3\\Lib\\site-packages\\keras\\src\\losses.py:2976: The name tf.losses.sparse_softmax_cross_entropy is deprecated. Please use tf.compat.v1.losses.sparse_softmax_cross_entropy instead.\n",
      "\n"
     ]
    }
   ],
   "source": [
    "from transformers import pipeline\n",
    "\n",
    "classifier = pipeline(\"sentiment-analysis\", model=model, tokenizer=tokenizer, truncation=True, max_length=512)"
   ]
  },
  {
   "cell_type": "code",
   "execution_count": 3,
   "id": "1054e69e-9512-44cd-b483-ec04157e4c67",
   "metadata": {},
   "outputs": [],
   "source": [
    "# Load the original CSV.\n",
    "news_data = pd.read_csv('news_data.csv')\n",
    "#print(news_data)"
   ]
  },
  {
   "cell_type": "code",
   "execution_count": 4,
   "id": "69f1565c-6920-4469-b397-96e1568773ed",
   "metadata": {},
   "outputs": [],
   "source": [
    "# Counting NaN values and filling with ''.\n",
    "news_data['content'] = news_data['content'].fillna('')\n",
    "news_data['text'] = news_data['title'] + ' ' + news_data['description'] + ' ' + news_data['content']\n",
    "#print(news_data)"
   ]
  },
  {
   "cell_type": "code",
   "execution_count": 5,
   "id": "415535ab-1afb-41f1-8307-dc6c63ef2bed",
   "metadata": {},
   "outputs": [],
   "source": [
    "# Filter the rows starting from the row 738.\n",
    "#filtered_news_data = news_data.iloc[738:].copy()\n",
    "# Show filtered news.\n",
    "#print(\"News starting from 738 row:\")\n",
    "#print(filtered_news_data)"
   ]
  },
  {
   "cell_type": "code",
   "execution_count": 6,
   "id": "02007f6e-5a0c-4ec0-ac6c-a628afc5d4f7",
   "metadata": {},
   "outputs": [],
   "source": [
    "# Clasify the sentiment of each filtered new and asign sentiment.\n",
    "#filtered_news_data['sentiment'] = filtered_news_data['text'].apply(lambda x: classifier(x[:738])[0]['label'])\n",
    "#filtered_news_data['rating'] = filtered_news_data['text'].apply(predict_sentiment)"
   ]
  },
  {
   "cell_type": "code",
   "execution_count": 7,
   "id": "2b0eba69-a308-438d-961e-df65040206a7",
   "metadata": {},
   "outputs": [],
   "source": [
    "# Show news with semntiment.\n",
    "#print(\"Noticias a clasificar con su respectivo rating:\")\n",
    "#print(filtered_news_data[['text', 'sentiment']])"
   ]
  },
  {
   "cell_type": "code",
   "execution_count": 8,
   "id": "db89097c-d3db-4d86-862a-243f459f78d0",
   "metadata": {},
   "outputs": [],
   "source": [
    "#print(filtered_news_data['text'][766])"
   ]
  },
  {
   "cell_type": "code",
   "execution_count": 9,
   "id": "f219944f-fd39-4137-8ad6-659511d73086",
   "metadata": {},
   "outputs": [],
   "source": [
    "# Statistical resume of the sentiment to see the sentiment distribution.\n",
    "#rating_summary = filtered_news_data['sentiment'].describe()\n",
    "#print(\"Resumen de los ratings:\")\n",
    "#print(rating_summary)"
   ]
  },
  {
   "cell_type": "code",
   "execution_count": 10,
   "id": "eacf38b5-6c23-4721-9e16-255ae3a12888",
   "metadata": {},
   "outputs": [
    {
     "name": "stdout",
     "output_type": "stream",
     "text": [
      "                 site                                              title  \\\n",
      "789          CoinDesk  Ether Favored in Crypto Rotation as Bitcoin Re...   \n",
      "790          CoinDesk  Bitcoin Buying Plans Are Supercharging Stocks....   \n",
      "791          CoinDesk  First Mover Americas: Bitcoin Regains $98K Aft...   \n",
      "792          CoinDesk  Bitcoin Options Worth $9B Expire Friday, Trade...   \n",
      "793          CoinDesk  MicroStrategy Is a Bitcoin Magnet Pulling in t...   \n",
      "794          CoinDesk  Tether in Talks to Support Cantor Fitzgerald’s...   \n",
      "795          CoinDesk  XRP, DOGE Lead Crypto Losses as Weekend Pullba...   \n",
      "796          CoinDesk  Bitcoin May Be More Vulnerable to Negative New...   \n",
      "797     CoinTelegraph   Rumble to spend up to $20M on Bitcoin in new ...   \n",
      "798     CoinTelegraph   Bitcoin price slips to $93K as liquidations s...   \n",
      "799     CoinTelegraph                     Sui to launch Bitcoin staking    \n",
      "800     CoinTelegraph   Bitcoin sees new $90K BTC price target as 3% ...   \n",
      "801     CoinTelegraph   Suriname the next Bitcoin Nation? Crypto insp...   \n",
      "802     CoinTelegraph   Bitcoin startups get dedicated crowdfunding p...   \n",
      "803     CoinTelegraph   MicroStrategy expands Bitcoin holdings with $...   \n",
      "804     CoinTelegraph   Bitcoin ETFs hit new record with over $3.1B i...   \n",
      "805     CoinTelegraph   Who cares about $100K? 5 Things to know in Bi...   \n",
      "806     CoinTelegraph   Ex-partner tosses $716M Bitcoin wallet, says ...   \n",
      "815  Bitcoin Magazine         Safegcd’s Implementation Formally Verified   \n",
      "816  Bitcoin Magazine  Newmarket Capital Launches Battery Finance, Bi...   \n",
      "817  Bitcoin Magazine  You Can Now Invest In Bitcoin And Open-source ...   \n",
      "824      Crypto Slate  Sky-high Bitcoin funding rates show a leverage...   \n",
      "825      Crypto Slate  VanEck extends zero-fee waiver for HODL Bitcoi...   \n",
      "826      Crypto Slate  Bitcoin’s sudden dip under $95k incurs $180 mi...   \n",
      "827       Crypto News  Bitcoin Dances Around $100k, While Elon Musk F...   \n",
      "828       Crypto News  Timestamp Debuts Regulated Crowdfunding Platfo...   \n",
      "829       Crypto News  Michael Saylor’s MicroStrategy Buys 55,000 Mor...   \n",
      "\n",
      "        pubDate                                               link  \\\n",
      "789  2024-11-25  https://www.coindesk.com/markets/2024/11/25/et...   \n",
      "790  2024-11-25  https://www.coindesk.com/markets/2024/11/25/bi...   \n",
      "791  2024-11-25  https://www.coindesk.com/markets/2024/11/25/fi...   \n",
      "792  2024-11-25  https://www.coindesk.com/markets/2024/11/25/bi...   \n",
      "793  2024-11-25  https://www.coindesk.com/markets/2024/11/25/mi...   \n",
      "794  2024-11-25  https://www.coindesk.com/business/2024/11/25/t...   \n",
      "795  2024-11-25  https://www.coindesk.com/markets/2024/11/25/xr...   \n",
      "796  2024-11-25  https://www.coindesk.com/coindesk-news/2024/11...   \n",
      "797  2024-11-25  https://cointelegraph.com/news/rumble-announce...   \n",
      "798  2024-11-25  https://cointelegraph.com/news/bitcoin-price-s...   \n",
      "799  2024-11-25  https://cointelegraph.com/news/sui-launch-bitc...   \n",
      "800  2024-11-25  https://cointelegraph.com/news/bitcoin-new-90k...   \n",
      "801  2024-11-25  https://cointelegraph.com/news/suriname-bitcoi...   \n",
      "802  2024-11-25  https://cointelegraph.com/news/bitcoin-startup...   \n",
      "803  2024-11-25  https://cointelegraph.com/news/microstrategy-e...   \n",
      "804  2024-11-25  https://cointelegraph.com/news/bitcoin-etf-wee...   \n",
      "805  2024-11-25  https://cointelegraph.com/news/who-cares-about...   \n",
      "806  2024-11-25  https://cointelegraph.com/news/james-howells-l...   \n",
      "815  2024-11-25  https://bitcoinmagazine.com/technical/safegcds...   \n",
      "816  2024-11-25  https://bitcoinmagazine.com/business/newmarket...   \n",
      "817  2024-11-25  https://bitcoinmagazine.com/business/you-can-n...   \n",
      "824  2024-11-25  https://cryptoslate.com/sky-high-bitcoin-fundi...   \n",
      "825  2024-11-25  https://cryptoslate.com/vaneck-extends-zero-fe...   \n",
      "826  2024-11-25  https://cryptoslate.com/insights/bitcoins-sudd...   \n",
      "827  2024-11-25  https://cryptonews.com/news/bitcoin-dances-aro...   \n",
      "828  2024-11-25  https://cryptonews.com/news/timestamp-debuts-r...   \n",
      "829  2024-11-25  https://cryptonews.com/news/michael-saylors-mi...   \n",
      "\n",
      "                                           description  \\\n",
      "789  <p>ETH advanced 4% during the day, outperformi...   \n",
      "790  <p>Following MicroStrategy's successful bitcoi...   \n",
      "791  <p>Bitcoin returns to $98,000.</p><p>Crypto fu...   \n",
      "792  <p>November's expiry is due Friday at 08:00 UT...   \n",
      "793  <p>Bernstein raised its MicroStrategy price ta...   \n",
      "794  <p>Tether may take part in Cantor’s multi-bill...   \n",
      "795  <p>Bitcoin experienced a significant drop from...   \n",
      "796  <p>BTC's order book shows executed bullish flo...   \n",
      "797  Rumble has become the latest company to confir...   \n",
      "798  Long liquidations and profit-taking from long-...   \n",
      "799  Starting in December, Bitcoin holders will be ...   \n",
      "800  Bitcoin traders face unnerving conditions as B...   \n",
      "801  Suriname’s new presidential candidate Parbhoe ...   \n",
      "802  Crowdfunding platform Timestamp wants to offer...   \n",
      "803  MicroStrategy acquired 55,000 Bitcoin for $5.4...   \n",
      "804  CoinShares data showed that spot Bitcoin ETFs ...   \n",
      "805  Bitcoin market participants' views diverge wil...   \n",
      "806  James Howells’ $716 million Bitcoin fortune in...   \n",
      "815  Verifying an implementation of a novel modular...   \n",
      "816  Battery Finance enables borrowers to use bitco...   \n",
      "817  The launch of Timestamp has really piqued my i...   \n",
      "824  Bitcoin’s perpetual futures funding rate repre...   \n",
      "825  VanEck has extended the fee waiver for its HOD...   \n",
      "826  Bitcoin’s price sharply declined nearly 2% on ...   \n",
      "827  Bitcoin slips to $93,839 amid technical resist...   \n",
      "828  Timestamp has launched a regulated crowdfundin...   \n",
      "829  MicroStrategy, spearheaded by Michael Saylor, ...   \n",
      "\n",
      "                                               content  \\\n",
      "789  After a prolonged downtrend relative to bitcoi...   \n",
      "790  What does the ragtag group including a fitness...   \n",
      "791  Starting next Monday, First Mover Americas wil...   \n",
      "792  The crypto market should see a pick up in vola...   \n",
      "793  MicroStrategy's (MSTR) bitcoin (BTC) treasury ...   \n",
      "794   Howard Lutnick, chairman of Wall Street tradi...   \n",
      "795  Bitcoin (BTC) pared last week’s gains with a p...   \n",
      "796  Yes, you read the title correctly, and it does...   \n",
      "797                                                      \n",
      "798                                                      \n",
      "799                                                      \n",
      "800                                                      \n",
      "801                                                      \n",
      "802                                                      \n",
      "803                                                      \n",
      "804                                                      \n",
      "805                                                      \n",
      "806                                                      \n",
      "815  IntroductionThe security of Bitcoin, and other...   \n",
      "816  Newmarket Capital recently closed the first in...   \n",
      "817       Follow Nikolaus On X Here  Bitcoin and op...   \n",
      "824  Bitcoin’s perpetual futures funding rate repre...   \n",
      "825  VanEck has extended the fee waiver for its HOD...   \n",
      "826  Bitcoin’s price sharply declined nearly 2% on ...   \n",
      "827   Bitcoin (BTC), the world’s largest cryptocurr...   \n",
      "828   Timestamp, a regulated investment platform he...   \n",
      "829   MicroStrategy, led by Michael Saylor, expande...   \n",
      "\n",
      "                                                  text  \n",
      "789  Ether Favored in Crypto Rotation as Bitcoin Re...  \n",
      "790  Bitcoin Buying Plans Are Supercharging Stocks....  \n",
      "791  First Mover Americas: Bitcoin Regains $98K Aft...  \n",
      "792  Bitcoin Options Worth $9B Expire Friday, Trade...  \n",
      "793  MicroStrategy Is a Bitcoin Magnet Pulling in t...  \n",
      "794  Tether in Talks to Support Cantor Fitzgerald’s...  \n",
      "795  XRP, DOGE Lead Crypto Losses as Weekend Pullba...  \n",
      "796  Bitcoin May Be More Vulnerable to Negative New...  \n",
      "797   Rumble to spend up to $20M on Bitcoin in new ...  \n",
      "798   Bitcoin price slips to $93K as liquidations s...  \n",
      "799   Sui to launch Bitcoin staking  Starting in De...  \n",
      "800   Bitcoin sees new $90K BTC price target as 3% ...  \n",
      "801   Suriname the next Bitcoin Nation? Crypto insp...  \n",
      "802   Bitcoin startups get dedicated crowdfunding p...  \n",
      "803   MicroStrategy expands Bitcoin holdings with $...  \n",
      "804   Bitcoin ETFs hit new record with over $3.1B i...  \n",
      "805   Who cares about $100K? 5 Things to know in Bi...  \n",
      "806   Ex-partner tosses $716M Bitcoin wallet, says ...  \n",
      "815  Safegcd’s Implementation Formally Verified Ver...  \n",
      "816  Newmarket Capital Launches Battery Finance, Bi...  \n",
      "817  You Can Now Invest In Bitcoin And Open-source ...  \n",
      "824  Sky-high Bitcoin funding rates show a leverage...  \n",
      "825  VanEck extends zero-fee waiver for HODL Bitcoi...  \n",
      "826  Bitcoin’s sudden dip under $95k incurs $180 mi...  \n",
      "827  Bitcoin Dances Around $100k, While Elon Musk F...  \n",
      "828  Timestamp Debuts Regulated Crowdfunding Platfo...  \n",
      "829  Michael Saylor’s MicroStrategy Buys 55,000 Mor...  \n"
     ]
    }
   ],
   "source": [
    "from datetime import datetime\n",
    "from dateutil import parser\n",
    "\n",
    "# Get the current date.\n",
    "today = datetime.now().date()\n",
    "\n",
    "# Convert pubDate to datatime format and filter by the current date.\n",
    "# Ensure that pubDate is treated as a string before parsing.\n",
    "news_data['pubDate'] = news_data['pubDate'].astype(str).apply(lambda x: parser.parse(x).date())\n",
    "\n",
    "# Filter only the current news.\n",
    "filtered_news_data = news_data[news_data['pubDate'] == today].copy()\n",
    "print(filtered_news_data)"
   ]
  },
  {
   "cell_type": "code",
   "execution_count": 13,
   "id": "2a3b0957-5488-4c19-89a4-77424ba5959c",
   "metadata": {},
   "outputs": [
    {
     "name": "stdout",
     "output_type": "stream",
     "text": [
      "Michael Saylor’s MicroStrategy Buys 55,000 More Bitcoin  MicroStrategy, spearheaded by Michael Saylor, disclosed a $5.4B Bitcoin purchase, adding 55,000 BTC to its holdings. With a total of 386,700 BTC now acquired for $21.9B, the company remains one of the largest corporate investors in cryptocurrency. SEC filings reveal strategic funding via convertible notes.The postMichael Saylor’s MicroStrategy Buys 55,000 More Bitcoinappeared first onCryptonews.  MicroStrategy, led by Michael Saylor, expanded its Bitcoin holdings by purchasing 55,000 more coins between November 18 and November 24, according to an 8-K filing dated November 25.  This acquisition, worth $5.4 billion, marks the software firm’s largest purchase to date. MicroStrategy Increases Bitcoin Holdings With $5.4 Billion Purchase The Virginia-based company disclosed in its Monday filing with the United States Securities and Exchange Commission (SEC) that the purchase was funded through convertible note offerings and the sale of shares.  The average acquisition price was $97,862 per Bitcoin, cementing MicroStrategy’s status as one of the largest corporate holders of the cryptocurrency.  MicroStrategy has acquired 55,500 BTC for ~$5.4 billion at ~$97,862 per #bitcoin and has achieved BTC Yield of 35.2% QTD and 59.3% YTD. As of 11/24/2024, we hodl 386,700 $BTC acquired for ~$21.9 billion at ~$56,761 per bitcoin. $MSTR https://t.co/79ExzXk4UM— Michael Saylor (@saylor) November 25, 2024  With this latest purchase, MicroStrategy’s Bitcoin holdings now total 386,700, acquired for approximately $21.9 billion and currently valued at $56,761.  Taking into account Bitcoin’s current market value, the company’s crypto portfolio is estimated to be worth over $37 billion. This monumental acquisition aligns with the company’s strategy to leverage convertible notes and share sales for crypto investments.  Just days prior, MicroStrategy completed a $3 billion offering of convertible notes due in 2029, providing fresh capital for its ongoing Bitcoin acquisitions. Michael Saylor’s Bullish Outlook on Bitcoin Michael Saylor shared his optimistic outlook during a recent CNBC interview, emphasizing the scale of MicroStrategy’s operations.  “We’re making $500 million a day,” Saylor said. “I’m staring at my screen, and we’re selling dollar bills for $3, sometimes a million times a minute.” The company’s stock performance has significantly outpaced the S&P 500, thanks largely to its massive Bitcoin reserves.  Despite Saylor’s confidence, Bitcoin prices appeared to stabilize on Monday, hovering around $95,000 after approaching $100,000 last week.  MicroStrategy is powered by its #Bitcoin treasury operations. We sell volatility through our ATM offerings, strip BTC risk, volatility, and performance from our fixed-income securities, and transfer that performance to our $MSTR equity holders. pic.twitter.com/QedCazsrsN— Michael Saylor (@saylor) November 22, 2024  Bitcoin’s recent surge follows the election of President-elect Donald Trump, who has pledged to introduce a crypto-friendly regulatory framework and restructure federal agencies to support digital assets.  Saylor expressed confidence in Bitcoin’s trajectory earlier this month during another CNBC appearance.  He remarked, “I’m planning the $100,000 party,” adding that he envisions hosting it on New Year’s Eve if Bitcoin surpasses that milestone by December. In a November 21 X post, Saylor highlighted the company’s $3 billion convertible notes offering, emphasizing its 0% coupon rate and 55% premium.  The post Michael Saylor’s MicroStrategy Buys 55,000 More Bitcoin  appeared first on Cryptonews. \n"
     ]
    }
   ],
   "source": [
    "print(filtered_news_data['text'][829])"
   ]
  },
  {
   "cell_type": "code",
   "execution_count": 12,
   "id": "fffa3939-7cfd-459d-a6c1-567ad234c423",
   "metadata": {},
   "outputs": [
    {
     "name": "stdout",
     "output_type": "stream",
     "text": [
      "Noticias clasificadas de la fecha actual con su respectivo sentimiento:\n",
      "                                                  text    label sentiment\n",
      "789  Ether Favored in Crypto Rotation as Bitcoin Re...  LABEL_1  Positive\n",
      "790  Bitcoin Buying Plans Are Supercharging Stocks....  LABEL_1  Positive\n",
      "791  First Mover Americas: Bitcoin Regains $98K Aft...  LABEL_1  Positive\n",
      "792  Bitcoin Options Worth $9B Expire Friday, Trade...  LABEL_1  Positive\n",
      "793  MicroStrategy Is a Bitcoin Magnet Pulling in t...  LABEL_1  Positive\n",
      "794  Tether in Talks to Support Cantor Fitzgerald’s...  LABEL_0  Negative\n",
      "795  XRP, DOGE Lead Crypto Losses as Weekend Pullba...  LABEL_0  Negative\n",
      "796  Bitcoin May Be More Vulnerable to Negative New...  LABEL_0  Negative\n",
      "797   Rumble to spend up to $20M on Bitcoin in new ...  LABEL_1  Positive\n",
      "798   Bitcoin price slips to $93K as liquidations s...  LABEL_0  Negative\n",
      "799   Sui to launch Bitcoin staking  Starting in De...  LABEL_1  Positive\n",
      "800   Bitcoin sees new $90K BTC price target as 3% ...  LABEL_0  Negative\n",
      "801   Suriname the next Bitcoin Nation? Crypto insp...  LABEL_1  Positive\n",
      "802   Bitcoin startups get dedicated crowdfunding p...  LABEL_1  Positive\n",
      "803   MicroStrategy expands Bitcoin holdings with $...  LABEL_1  Positive\n",
      "804   Bitcoin ETFs hit new record with over $3.1B i...  LABEL_1  Positive\n",
      "805   Who cares about $100K? 5 Things to know in Bi...  LABEL_0  Negative\n",
      "806   Ex-partner tosses $716M Bitcoin wallet, says ...  LABEL_0  Negative\n",
      "815  Safegcd’s Implementation Formally Verified Ver...  LABEL_1  Positive\n",
      "816  Newmarket Capital Launches Battery Finance, Bi...  LABEL_1  Positive\n",
      "817  You Can Now Invest In Bitcoin And Open-source ...  LABEL_1  Positive\n",
      "824  Sky-high Bitcoin funding rates show a leverage...  LABEL_1  Positive\n",
      "825  VanEck extends zero-fee waiver for HODL Bitcoi...  LABEL_1  Positive\n",
      "826  Bitcoin’s sudden dip under $95k incurs $180 mi...  LABEL_0  Negative\n",
      "827  Bitcoin Dances Around $100k, While Elon Musk F...  LABEL_0  Negative\n",
      "828  Timestamp Debuts Regulated Crowdfunding Platfo...  LABEL_1  Positive\n",
      "829  Michael Saylor’s MicroStrategy Buys 55,000 Mor...  LABEL_1  Positive\n"
     ]
    }
   ],
   "source": [
    "# Apply the classifier to each text and store the probability in a new column.\n",
    "filtered_news_data['label'] = filtered_news_data['text'].apply(lambda x: classifier(x)[0]['label'])\n",
    "\n",
    "# Mapping targets to understand better the labels.\n",
    "label_mapping = {'LABEL_0': 'Negative', 'LABEL_1': 'Positive'}\n",
    "filtered_news_data['sentiment'] = filtered_news_data['label'].map(label_mapping)\n",
    "\n",
    "# Show news with sentiment values.\n",
    "print(\"Noticias clasificadas de la fecha actual con su respectivo sentimiento:\")\n",
    "print(filtered_news_data[['text', 'label', 'sentiment']])"
   ]
  },
  {
   "cell_type": "code",
   "execution_count": 14,
   "id": "165275f6-5c53-49ea-b25e-08da1d4934bf",
   "metadata": {},
   "outputs": [
    {
     "data": {
      "text/plain": [
       "'# Calcular el promedio de las puntuaciones\\naverage_score = filtered_news_data[\\'score\\'].mean()\\n\\n# Calcular el porcentaje de noticias positivas\\npositive_count = (filtered_news_data[\\'label\\'] == \\'LABEL_1\\').sum()\\nnegative_count = (filtered_news_data[\\'label\\'] == \\'LABEL_0\\').sum()\\ntotal_count = len(filtered_news_data)\\n\\npositive_percentage = (positive_count / total_count) * 100 if total_count > 0 else 0\\nnegative_percentage = (negative_count / total_count) * 100 if total_count > 0 else 0\\n\\n# Resultados\\nprint(\"Promedio de probabilidad de sentimiento:\", average_score)\\nprint(\"Porcentaje de noticias positivas:\", positive_percentage)\\nprint(\"Porcentaje de noticias negativas:\", negative_percentage)\\n\\n# Guardar el resultado en un nuevo archivo CSV, si lo deseas\\nfiltered_news_data.to_csv(\\'classified_news_today_with_probabilities.csv\\', index=False)\\n\\n# Puedes almacenar las métricas en un diccionario o DataFrame para combinarlas con otro análisis\\nsentiment_analysis_summary = {\\n    \"average_score\": average_score,\\n    \"positive_percentage\": positive_percentage,\\n    \"negative_percentage\": negative_percentage\\n}\\n\\n# Convertir el resumen a un DataFrame si necesitas\\nsummary_df = pd.DataFrame([sentiment_analysis_summary])\\nsummary_df.to_csv(\\'sentiment_analysis_summary.csv\\', index=False)\\n'"
      ]
     },
     "execution_count": 14,
     "metadata": {},
     "output_type": "execute_result"
    }
   ],
   "source": [
    "\"\"\"# Calcular el promedio de las puntuaciones\n",
    "average_score = filtered_news_data['score'].mean()\n",
    "\n",
    "# Calcular el porcentaje de noticias positivas\n",
    "positive_count = (filtered_news_data['label'] == 'LABEL_1').sum()\n",
    "negative_count = (filtered_news_data['label'] == 'LABEL_0').sum()\n",
    "total_count = len(filtered_news_data)\n",
    "\n",
    "positive_percentage = (positive_count / total_count) * 100 if total_count > 0 else 0\n",
    "negative_percentage = (negative_count / total_count) * 100 if total_count > 0 else 0\n",
    "\n",
    "# Resultados\n",
    "print(\"Promedio de probabilidad de sentimiento:\", average_score)\n",
    "print(\"Porcentaje de noticias positivas:\", positive_percentage)\n",
    "print(\"Porcentaje de noticias negativas:\", negative_percentage)\n",
    "\n",
    "# Guardar el resultado en un nuevo archivo CSV, si lo deseas\n",
    "filtered_news_data.to_csv('classified_news_today_with_probabilities.csv', index=False)\n",
    "\n",
    "# Puedes almacenar las métricas en un diccionario o DataFrame para combinarlas con otro análisis\n",
    "sentiment_analysis_summary = {\n",
    "    \"average_score\": average_score,\n",
    "    \"positive_percentage\": positive_percentage,\n",
    "    \"negative_percentage\": negative_percentage\n",
    "}\n",
    "\n",
    "# Convertir el resumen a un DataFrame si necesitas\n",
    "summary_df = pd.DataFrame([sentiment_analysis_summary])\n",
    "summary_df.to_csv('sentiment_analysis_summary.csv', index=False)\n",
    "\"\"\""
   ]
  },
  {
   "cell_type": "code",
   "execution_count": 15,
   "id": "38cfa6a3-7733-4f93-a446-c2d3e70e71a4",
   "metadata": {},
   "outputs": [
    {
     "name": "stdout",
     "output_type": "stream",
     "text": [
      "Resumen de Sentimientos:\n",
      "sentiment\n",
      "Positive    18\n",
      "Negative     9\n",
      "Name: count, dtype: int64\n"
     ]
    }
   ],
   "source": [
    "sentiment_summary = filtered_news_data['sentiment'].value_counts()\n",
    "print(\"Resumen de Sentimientos:\")\n",
    "print(sentiment_summary)"
   ]
  },
  {
   "cell_type": "code",
   "execution_count": 16,
   "id": "ba6b7a6b-3de8-41b7-8a31-cb5c13daca95",
   "metadata": {},
   "outputs": [
    {
     "name": "stdout",
     "output_type": "stream",
     "text": [
      "Tendencia del Sentimiento:\n",
      "Positivo: 66.67%\n",
      "Negativo: 33.33%\n"
     ]
    }
   ],
   "source": [
    "# Sentiment porcentage.\n",
    "positive_percentage = (sentiment_summary['Positive'] / sentiment_summary.sum()) * 100\n",
    "negative_percentage = (sentiment_summary['Negative'] / sentiment_summary.sum()) * 100\n",
    "print(f\"Tendencia del Sentimiento:\\nPositivo: {positive_percentage:.2f}%\\nNegativo: {negative_percentage:.2f}%\")"
   ]
  },
  {
   "cell_type": "code",
   "execution_count": 17,
   "id": "c7e21118-6b91-4211-bc5e-539dadf9c284",
   "metadata": {},
   "outputs": [
    {
     "data": {
      "image/png": "[encoded data removed]",
      "text/plain": [
       "<Figure size 640x480 with 1 Axes>"
      ]
     },
     "metadata": {},
     "output_type": "display_data"
    }
   ],
   "source": [
    "import matplotlib.pyplot as plt\n",
    "\n",
    "# Show the results.\n",
    "sentiment_summary.plot(kind='bar', color=['green', 'red'], title='Distribución de Sentimientos')\n",
    "plt.xlabel('Sentimientos')\n",
    "plt.ylabel('Cantidad')\n",
    "plt.show()"
   ]
  },
  {
   "cell_type": "code",
   "execution_count": 18,
   "id": "b99873af-a8e8-4f6b-be7f-fbdf38b6a138",
   "metadata": {},
   "outputs": [
    {
     "name": "stdout",
     "output_type": "stream",
     "text": [
      "El sentimiento predominante es: POSITIVE (66.67%)\n"
     ]
    }
   ],
   "source": [
    "# Get the highest porcentage of sentiment.\n",
    "if not sentiment_summary.empty:\n",
    "    predominant_sentiment = sentiment_summary.idxmax()\n",
    "    predominant_percentage = (sentiment_summary[predominant_sentiment] / sentiment_summary.sum()) * 100\n",
    "    print(f\"El sentimiento predominante es: {predominant_sentiment.upper()} ({predominant_percentage:.2f}%)\")\n",
    "else:\n",
    "    print(\"No hay suficientes datos para analizar el sentimiento.\")"
   ]
  },
  {
   "cell_type": "code",
   "execution_count": 19,
   "id": "7e206076-ec28-42b7-b055-46d2ca49fd24",
   "metadata": {},
   "outputs": [
    {
     "name": "stdout",
     "output_type": "stream",
     "text": [
      "Resultado exportado a 'sentiment_result.json'.\n"
     ]
    }
   ],
   "source": [
    "import json\n",
    "\n",
    "# Store the predominat sentiment in JSON file.\n",
    "if not sentiment_summary.empty:\n",
    "    result = {\n",
    "        \"sentiment\": predominant_sentiment,\n",
    "        \"percentage\": round(predominant_percentage, 2)\n",
    "    }\n",
    "    with open('sentiment_result.json', 'w') as json_file:\n",
    "        json.dump(result, json_file)\n",
    "    print(\"Resultado exportado a 'sentiment_result.json'.\")\n",
    "else:\n",
    "    print(\"No hay suficientes datos para exportar el resultado.\")\n"
   ]
  },
  {
   "cell_type": "code",
   "execution_count": null,
   "id": "068f9eab-8595-4e30-ae20-dcddeba8bca3",
   "metadata": {},
   "outputs": [],
   "source": []
  }
 ],
 "metadata": {
  "kernelspec": {
   "display_name": "Python 3 (ipykernel)",
   "language": "python",
   "name": "python3"
  },
  "language_info": {
   "codemirror_mode": {
    "name": "ipython",
    "version": 3
   },
   "file_extension": ".py",
   "mimetype": "text/x-python",
   "name": "python",
   "nbconvert_exporter": "python",
   "pygments_lexer": "ipython3",
   "version": "3.11.5"
  }
 },
 "nbformat": 4,
 "nbformat_minor": 5
}
