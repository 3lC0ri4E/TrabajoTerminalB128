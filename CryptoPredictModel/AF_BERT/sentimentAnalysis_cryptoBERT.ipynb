{
 "cells": [
  {
   "cell_type": "markdown",
   "id": "9d66a5d9-6713-4791-8eb2-d8aaafae5571",
   "metadata": {},
   "source": [
    "SENTIMENT ANALYSIS USING LLMs."
   ]
  },
  {
   "cell_type": "code",
   "execution_count": 1,
   "id": "fcf88ff6-ddce-4143-ba7e-aa360eea9d95",
   "metadata": {},
   "outputs": [
    {
     "name": "stdout",
     "output_type": "stream",
     "text": [
      "WARNING:tensorflow:From C:\\Users\\asael\\anaconda3\\Lib\\site-packages\\keras\\src\\losses.py:2976: The name tf.losses.sparse_softmax_cross_entropy is deprecated. Please use tf.compat.v1.losses.sparse_softmax_cross_entropy instead.\n",
      "\n"
     ]
    },
    {
     "name": "stderr",
     "output_type": "stream",
     "text": [
      "C:\\Users\\asael\\anaconda3\\Lib\\site-packages\\transformers\\utils\\generic.py:260: UserWarning: torch.utils._pytree._register_pytree_node is deprecated. Please use torch.utils._pytree.register_pytree_node instead.\n",
      "  torch.utils._pytree._register_pytree_node(\n"
     ]
    }
   ],
   "source": [
    "# Libraries.\n",
    "import pandas as pd\n",
    "import matplotlib.pyplot as plt\n",
    "import csv\n",
    "import re\n",
    "from sklearn.model_selection import train_test_split\n",
    "from sklearn.metrics import accuracy_score, f1_score\n",
    "import torch\n",
    "from transformers import AutoTokenizer, AutoModelForSequenceClassification, Trainer, TrainingArguments, AdamW"
   ]
  },
  {
   "cell_type": "code",
   "execution_count": 2,
   "id": "379255b0-c56e-44e9-83be-9569dec47b00",
   "metadata": {},
   "outputs": [],
   "source": [
    "# Reading news corpus.\n",
    "news = pd.read_csv('news_data.csv')\n",
    "#print(news)"
   ]
  },
  {
   "cell_type": "code",
   "execution_count": 3,
   "id": "3881b7d5-1492-460d-9898-b703e3af3417",
   "metadata": {},
   "outputs": [],
   "source": [
    "# Counting NaN values and filling with ''.\n",
    "news['content'] = news['content'].fillna('')\n",
    "news['text'] = news['title'] + ' ' + news['description'] + ' ' + news['content']\n",
    "#print(news)"
   ]
  },
  {
   "cell_type": "code",
   "execution_count": 4,
   "id": "44290536-68fd-47a5-b809-efd7be34e441",
   "metadata": {},
   "outputs": [],
   "source": [
    "# Function for predict sentiment for each new in 2 targets: positive and negative.\n",
    "\n",
    "def predict_sentiment(text):\n",
    "    inputs = tokenizer(text, return_tensors=\"pt\", padding=True, truncation=True, max_length=512)\n",
    "    with torch.no_grad():\n",
    "        outputs = model(**inputs)\n",
    "    logits = outputs.logits\n",
    "    probabilities = torch.softmax(logits, dim=1)\n",
    "    sentiment = torch.argmax(probabilities, dim=1).item() #+ 1 # 1 to 5 rating.\n",
    "    \n",
    "    # Mapping each target.\n",
    "    return 'Negativo' if sentiment == 0 else 'Positivo'\n",
    "    #if sentiment == 0:\n",
    "    #    return 'Negativo'\n",
    "    #elif sentiment == 1:\n",
    "    #    return 'Neutral'\n",
    "    #else:\n",
    "    #    return 'Positivo'\n"
   ]
  },
  {
   "cell_type": "code",
   "execution_count": 5,
   "id": "cc63f083-0aaa-4c86-82b3-61b59ad3c94d",
   "metadata": {},
   "outputs": [
    {
     "name": "stderr",
     "output_type": "stream",
     "text": [
      "C:\\Users\\asael\\anaconda3\\Lib\\site-packages\\transformers\\utils\\generic.py:260: UserWarning: torch.utils._pytree._register_pytree_node is deprecated. Please use torch.utils._pytree.register_pytree_node instead.\n",
      "  torch.utils._pytree._register_pytree_node(\n"
     ]
    }
   ],
   "source": [
    "# Using LLM BERT Sentiment.\n",
    "model_name = \"kk08/CryptoBERT\"\n",
    "tokenizer = AutoTokenizer.from_pretrained(model_name)\n",
    "model = AutoModelForSequenceClassification.from_pretrained(model_name)"
   ]
  },
  {
   "cell_type": "code",
   "execution_count": 6,
   "id": "4066b8ff-932b-4ef8-b906-0f69ab454b29",
   "metadata": {},
   "outputs": [],
   "source": [
    "# Generating target for the corpus.\n",
    "news['sentiment'] = news['text'].apply(predict_sentiment)"
   ]
  },
  {
   "cell_type": "code",
   "execution_count": 7,
   "id": "d86357a4-aa89-466d-a9a9-cf29941a21bb",
   "metadata": {},
   "outputs": [
    {
     "name": "stdout",
     "output_type": "stream",
     "text": [
      "              site                                              title  \\\n",
      "0    CoinTelegraph   Bitcoin in ‘seasonal slog’ with slim chance o...   \n",
      "1    CoinTelegraph   Bitcoin traders celebrate ‘good news’ as BTC ...   \n",
      "2    CoinTelegraph   Bitcoin price shows strength above its recent...   \n",
      "3    CoinTelegraph   Bitcoin ETFs record combined $1.2B in outflow...   \n",
      "4    CoinTelegraph   Is crypto entering a bear market? — 5 Things ...   \n",
      "..             ...                                                ...   \n",
      "732   Crypto Slate  Softwar author Jason Lowery looks to White Hou...   \n",
      "733   Crypto Slate  Marathon Digital upsizes debt offering to $1 b...   \n",
      "734    Crypto News  Tokenized US Treasury Bills on Bitcoin’s Liqui...   \n",
      "735    Crypto News  Bitfinity Network Launches EVM-Compatible Bitc...   \n",
      "736    Crypto News  Metaplanet Shares Surge 15% Following $11.3M B...   \n",
      "\n",
      "                             pubDate  \\\n",
      "0    Tue, 10 Sep 2024 03:16:56 +0100   \n",
      "1    Mon, 09 Sep 2024 21:53:03 +0100   \n",
      "2    Mon, 09 Sep 2024 20:07:16 +0100   \n",
      "3    Mon, 09 Sep 2024 09:28:35 +0100   \n",
      "4    Mon, 09 Sep 2024 08:14:00 +0100   \n",
      "..                               ...   \n",
      "732  Tue, 19 Nov 2024 12:04:58 +0000   \n",
      "733  Tue, 19 Nov 2024 10:13:09 +0000   \n",
      "734  Tue, 19 Nov 2024 15:24:23 +0000   \n",
      "735  Tue, 19 Nov 2024 13:23:04 +0000   \n",
      "736  Tue, 19 Nov 2024 12:12:21 +0000   \n",
      "\n",
      "                                                  link  \\\n",
      "0    https://cointelegraph.com/news/bitcoin-seasona...   \n",
      "1    https://cointelegraph.com/news/bitcoin-traders...   \n",
      "2    https://cointelegraph.com/news/bitcoin-price-s...   \n",
      "3    https://cointelegraph.com/news/bitcoin-etfs-1-...   \n",
      "4    https://cointelegraph.com/news/is-crypto-enter...   \n",
      "..                                                 ...   \n",
      "732  https://cryptoslate.com/softwar-author-major-j...   \n",
      "733  https://cryptoslate.com/marathon-digital-upsiz...   \n",
      "734  https://cryptonews.com/news/tokenized-us-treas...   \n",
      "735  https://cryptonews.com/news/bitfinity-network-...   \n",
      "736  https://cryptonews.com/news/metaplanet-shares-...   \n",
      "\n",
      "                                           description  \\\n",
      "0    “Potential upcoming near-term catalysts for Bi...   \n",
      "1    Bitcoin’s weekly close above a key support lev...   \n",
      "2    A stock market recovery, investors' anticipati...   \n",
      "3    Despite the outflows, crypto ETFs outshined th...   \n",
      "4    Bitcoin and crypto institutional product outfl...   \n",
      "..                                                 ...   \n",
      "732  Jason Lowery, a major in the U.S. Space Force,...   \n",
      "733  Marathon Digital, a Nasdaq-listed Bitcoin mini...   \n",
      "734  NexBridge collaborated with Blockstream and Bi...   \n",
      "735  A key feature enabled by Bitfinity is that it ...   \n",
      "736  Japanese investment firm Metaplanet Inc. saw i...   \n",
      "\n",
      "                                               content  \\\n",
      "0                                                        \n",
      "1                                                        \n",
      "2                                                        \n",
      "3                                                        \n",
      "4                                                        \n",
      "..                                                 ...   \n",
      "732  Jason Lowery, a major in the U.S. Space Force,...   \n",
      "733  Marathon Digital, a Nasdaq-listed Bitcoin mini...   \n",
      "734   NexBridge, a digital asset issuer specializin...   \n",
      "735   Bitfinity Network, a Layer 2 (L2) for Bitcoin...   \n",
      "736   Japanese investment firm Metaplanet Inc. saw ...   \n",
      "\n",
      "                                                  text sentiment  \n",
      "0     Bitcoin in ‘seasonal slog’ with slim chance o...  Negativo  \n",
      "1     Bitcoin traders celebrate ‘good news’ as BTC ...  Positivo  \n",
      "2     Bitcoin price shows strength above its recent...  Positivo  \n",
      "3     Bitcoin ETFs record combined $1.2B in outflow...  Positivo  \n",
      "4     Is crypto entering a bear market? — 5 Things ...  Positivo  \n",
      "..                                                 ...       ...  \n",
      "732  Softwar author Jason Lowery looks to White Hou...  Positivo  \n",
      "733  Marathon Digital upsizes debt offering to $1 b...  Positivo  \n",
      "734  Tokenized US Treasury Bills on Bitcoin’s Liqui...  Positivo  \n",
      "735  Bitfinity Network Launches EVM-Compatible Bitc...  Positivo  \n",
      "736  Metaplanet Shares Surge 15% Following $11.3M B...  Positivo  \n",
      "\n",
      "[737 rows x 8 columns]\n"
     ]
    }
   ],
   "source": [
    "print(news)"
   ]
  },
  {
   "cell_type": "code",
   "execution_count": 8,
   "id": "d3a63ae6-44b4-4dc3-be49-b531e78c3f56",
   "metadata": {},
   "outputs": [],
   "source": [
    "# Mapping targets in numbers.\n",
    "label_mapping = {'Negativo': 0, 'Positivo': 1}\n",
    "news['rating'] = news['sentiment'].map(label_mapping)"
   ]
  },
  {
   "cell_type": "code",
   "execution_count": 9,
   "id": "6c7b669a-4df5-4e37-8919-c449f64710e0",
   "metadata": {},
   "outputs": [
    {
     "name": "stdout",
     "output_type": "stream",
     "text": [
      "                                                  text  rating\n",
      "0     Bitcoin in ‘seasonal slog’ with slim chance o...       0\n",
      "1     Bitcoin traders celebrate ‘good news’ as BTC ...       1\n",
      "2     Bitcoin price shows strength above its recent...       1\n",
      "3     Bitcoin ETFs record combined $1.2B in outflow...       1\n",
      "4     Is crypto entering a bear market? — 5 Things ...       1\n",
      "..                                                 ...     ...\n",
      "732  Softwar author Jason Lowery looks to White Hou...       1\n",
      "733  Marathon Digital upsizes debt offering to $1 b...       1\n",
      "734  Tokenized US Treasury Bills on Bitcoin’s Liqui...       1\n",
      "735  Bitfinity Network Launches EVM-Compatible Bitc...       1\n",
      "736  Metaplanet Shares Surge 15% Following $11.3M B...       1\n",
      "\n",
      "[737 rows x 2 columns]\n"
     ]
    }
   ],
   "source": [
    "# Results.\n",
    "print(news[['text', 'rating']])"
   ]
  },
  {
   "cell_type": "code",
   "execution_count": 10,
   "id": "44978c10-b394-4a89-bf04-e94e24d1bb93",
   "metadata": {},
   "outputs": [
    {
     "name": "stdout",
     "output_type": "stream",
     "text": [
      "138\n",
      "0\n",
      "599\n"
     ]
    }
   ],
   "source": [
    "negativos = news[news['sentiment'] == 'Negativo']\n",
    "print(len(negativos))\n",
    "\n",
    "neutrales = news[news['sentiment'] == 'Neutral']\n",
    "print(len(neutrales))\n",
    "\n",
    "positivas = news[news['sentiment'] == 'Positivo']\n",
    "print(len(positivas))"
   ]
  },
  {
   "cell_type": "code",
   "execution_count": 11,
   "id": "0f9a6ef3-c8ba-49a9-a98d-47f32c8f4030",
   "metadata": {},
   "outputs": [
    {
     "name": "stdout",
     "output_type": "stream",
     "text": [
      "471\n",
      "148\n",
      "118\n"
     ]
    }
   ],
   "source": [
    "# Splitting the corpis in 80% train set and 20% for test set.\n",
    "train_data, test_data = train_test_split(news, test_size=0.2, random_state=42)\n",
    "# Splitting train set in 80% to get the validation set in 20%.\n",
    "train_data, val_data = train_test_split(train_data, test_size=0.2, random_state=42)\n",
    "\n",
    "print(len(train_data))\n",
    "print(len(test_data))\n",
    "print(len(val_data))"
   ]
  },
  {
   "cell_type": "code",
   "execution_count": 12,
   "id": "993b1103-9499-481f-8802-69cd68c7b30d",
   "metadata": {},
   "outputs": [],
   "source": [
    "# Class.\n",
    "class Dataset(torch.utils.data.Dataset):\n",
    "    def __init__(self, texts, labels=None):\n",
    "        self.encodings = tokenizer(texts, padding=True, truncation=True, max_length=512)\n",
    "        self.labels = labels\n",
    "    def __getitem__(self, idx):\n",
    "        item = {key: torch.tensor(val[idx]) for key, val in self.encodings.items()}\n",
    "        if self.labels:\n",
    "            item[\"labels\"] = torch.tensor(self.labels[idx])\n",
    "        return item\n",
    "    def __len__(self):\n",
    "        return len(self.encodings[\"input_ids\"])"
   ]
  },
  {
   "cell_type": "code",
   "execution_count": 13,
   "id": "48aba580-f83a-4839-9b9e-42937bf97508",
   "metadata": {},
   "outputs": [],
   "source": [
    "# Datasets for each set.\n",
    "train_dataset = Dataset(train_data['text'].tolist(), train_data['rating'].tolist())\n",
    "val_dataset = Dataset(val_data['text'].tolist(), val_data['rating'].tolist())\n",
    "test_dataset = Dataset(test_data['text'].tolist(), test_data['rating'].tolist())"
   ]
  },
  {
   "cell_type": "code",
   "execution_count": 14,
   "id": "87218e7e-344d-48bc-96d8-128342421df3",
   "metadata": {},
   "outputs": [],
   "source": [
    "# Function metrcis.\n",
    "def compute_metrics(pred):\n",
    "    labels = pred.label_ids\n",
    "    preds = pred.predictions.argmax(-1)\n",
    "    f1 = f1_score(labels, preds, average=\"macro\")\n",
    "    acc = accuracy_score(labels, preds)\n",
    "    return {\"accuracy\": acc, \"f1\": f1}"
   ]
  },
  {
   "cell_type": "code",
   "execution_count": 20,
   "id": "df32c882-cd30-431c-b1c2-091470b15291",
   "metadata": {},
   "outputs": [],
   "source": [
    "# Configuration for training.\n",
    "training_args = TrainingArguments(\n",
    "    output_dir=\"output\",\n",
    "    evaluation_strategy=\"steps\",\n",
    "    eval_steps=100,\n",
    "    num_train_epochs=5,\n",
    "    learning_rate=2e-5,\n",
    "    per_device_train_batch_size=16,\n",
    "    per_device_eval_batch_size=16,\n",
    "    seed=42,\n",
    "    load_best_model_at_end=True,\n",
    "    fp16=False\n",
    ")"
   ]
  },
  {
   "cell_type": "code",
   "execution_count": 21,
   "id": "b07ef2cd-6659-4a79-9d89-ab6671f05ef3",
   "metadata": {},
   "outputs": [
    {
     "name": "stderr",
     "output_type": "stream",
     "text": [
      "C:\\Users\\asael\\anaconda3\\Lib\\site-packages\\transformers\\optimization.py:411: FutureWarning: This implementation of AdamW is deprecated and will be removed in a future version. Use the PyTorch implementation torch.optim.AdamW instead, or set `no_deprecation_warning=True` to disable this warning\n",
      "  warnings.warn(\n",
      "C:\\Users\\asael\\anaconda3\\Lib\\site-packages\\accelerate\\accelerator.py:444: FutureWarning: Passing the following arguments to `Accelerator` is deprecated and will be removed in version 1.0 of Accelerate: dict_keys(['dispatch_batches']). Please pass an `accelerate.DataLoaderConfiguration` instead: \n",
      "dataloader_config = DataLoaderConfiguration(dispatch_batches=None)\n",
      "  warnings.warn(\n"
     ]
    },
    {
     "data": {
      "text/html": [
       "\n",
       "    <div>\n",
       "      \n",
       "      <progress value='150' max='150' style='width:300px; height:20px; vertical-align: middle;'></progress>\n",
       "      [150/150 3:11:09, Epoch 5/5]\n",
       "    </div>\n",
       "    <table border=\"1\" class=\"dataframe\">\n",
       "  <thead>\n",
       " <tr style=\"text-align: left;\">\n",
       "      <th>Step</th>\n",
       "      <th>Training Loss</th>\n",
       "      <th>Validation Loss</th>\n",
       "      <th>Accuracy</th>\n",
       "      <th>F1</th>\n",
       "    </tr>\n",
       "  </thead>\n",
       "  <tbody>\n",
       "    <tr>\n",
       "      <td>100</td>\n",
       "      <td>No log</td>\n",
       "      <td>0.238372</td>\n",
       "      <td>0.940678</td>\n",
       "      <td>0.909855</td>\n",
       "    </tr>\n",
       "  </tbody>\n",
       "</table><p>"
      ],
      "text/plain": [
       "<IPython.core.display.HTML object>"
      ]
     },
     "metadata": {},
     "output_type": "display_data"
    },
    {
     "data": {
      "text/plain": [
       "TrainOutput(global_step=150, training_loss=0.01875046412150065, metrics={'train_runtime': 11534.828, 'train_samples_per_second': 0.204, 'train_steps_per_second': 0.013, 'total_flos': 619626535372800.0, 'train_loss': 0.01875046412150065, 'epoch': 5.0})"
      ]
     },
     "execution_count": 21,
     "metadata": {},
     "output_type": "execute_result"
    }
   ],
   "source": [
    "# AdamW Optimizer.\n",
    "optimizer = AdamW(model.parameters(), lr=2e-5)\n",
    "\n",
    "# Configurar el `Trainer`\n",
    "trainer = Trainer(\n",
    "    model=model,\n",
    "    args=training_args,\n",
    "    compute_metrics=compute_metrics,\n",
    "    train_dataset=train_dataset,\n",
    "    eval_dataset=val_dataset,\n",
    "    tokenizer=tokenizer,\n",
    "    optimizers=(optimizer, None)\n",
    ")\n",
    "\n",
    "# Train the model.\n",
    "trainer.train()"
   ]
  },
  {
   "cell_type": "code",
   "execution_count": 22,
   "id": "c82c3549-8341-42e0-9ae0-d2a4816a2f9f",
   "metadata": {},
   "outputs": [
    {
     "data": {
      "text/html": [],
      "text/plain": [
       "<IPython.core.display.HTML object>"
      ]
     },
     "metadata": {},
     "output_type": "display_data"
    },
    {
     "name": "stdout",
     "output_type": "stream",
     "text": [
      "{'test_loss': 0.14693140983581543, 'test_accuracy': 0.972972972972973, 'test_f1': 0.9367521367521368, 'test_runtime': 238.1423, 'test_samples_per_second': 0.621, 'test_steps_per_second': 0.042}\n"
     ]
    }
   ],
   "source": [
    "# Evaluating model in test set.\n",
    "predictions = trainer.predict(test_dataset)\n",
    "print(predictions.metrics)"
   ]
  },
  {
   "cell_type": "code",
   "execution_count": 23,
   "id": "974c49f4-babf-45c2-9c1f-eac623f8da3c",
   "metadata": {},
   "outputs": [
    {
     "data": {
      "image/png": "[encoded data removed]",
      "text/plain": [
       "<Figure size 600x600 with 1 Axes>"
      ]
     },
     "metadata": {},
     "output_type": "display_data"
    },
    {
     "name": "stdout",
     "output_type": "stream",
     "text": [
      "              precision    recall  f1-score   support\n",
      "\n",
      "    Negativo       0.94      0.84      0.89        19\n",
      "    Positivo       0.98      0.99      0.98       129\n",
      "\n",
      "    accuracy                           0.97       148\n",
      "   macro avg       0.96      0.92      0.94       148\n",
      "weighted avg       0.97      0.97      0.97       148\n",
      "\n"
     ]
    }
   ],
   "source": [
    "# Confussion matrix to looke better the results.\n",
    "from sklearn.metrics import ConfusionMatrixDisplay, confusion_matrix, classification_report\n",
    "import numpy as np\n",
    "\n",
    "y_preds = np.argmax(predictions.predictions, axis=-1)\n",
    "y_test = test_data['rating'].tolist()\n",
    "\n",
    "# Graficar la matriz de confusión\n",
    "def plot_confusion_matrix(y_preds, y_true, labels):\n",
    "    cm = confusion_matrix(y_true, y_preds, labels=[0, 1], normalize=\"true\")\n",
    "    fig, ax = plt.subplots(figsize=(6, 6))\n",
    "    disp = ConfusionMatrixDisplay(confusion_matrix=cm, display_labels=labels)\n",
    "    disp.plot(cmap=\"Blues\", values_format=\".2f\", ax=ax, colorbar=False)\n",
    "    plt.title(\"Normalized confusion matrix\")\n",
    "    plt.show()\n",
    "\n",
    "label_name = ['Negativo', 'Positivo']\n",
    "plot_confusion_matrix(y_preds, y_test, label_name)\n",
    "\n",
    "# Mostrar reporte de clasificación\n",
    "print(classification_report(y_test, y_preds, target_names=label_name))"
   ]
  },
  {
   "cell_type": "code",
   "execution_count": 24,
   "id": "cd0aff79-2939-4b82-9430-7b9d9e4c0e52",
   "metadata": {},
   "outputs": [
    {
     "data": {
      "text/plain": [
       "('pretrainedTokenizer\\\\tokenizer_config.json',\n",
       " 'pretrainedTokenizer\\\\special_tokens_map.json',\n",
       " 'pretrainedTokenizer\\\\vocab.txt',\n",
       " 'pretrainedTokenizer\\\\added_tokens.json',\n",
       " 'pretrainedTokenizer\\\\tokenizer.json')"
      ]
     },
     "execution_count": 24,
     "metadata": {},
     "output_type": "execute_result"
    }
   ],
   "source": [
    "# Saving the pretrained model.\n",
    "model.save_pretrained('pretrainedModel')\n",
    "tokenizer.save_pretrained('pretrainedTokenizer')"
   ]
  },
  {
   "cell_type": "code",
   "execution_count": null,
   "id": "05bc157e-1574-4eb1-83fb-59da85086809",
   "metadata": {},
   "outputs": [],
   "source": []
  }
 ],
 "metadata": {
  "kernelspec": {
   "display_name": "Python 3 (ipykernel)",
   "language": "python",
   "name": "python3"
  },
  "language_info": {
   "codemirror_mode": {
    "name": "ipython",
    "version": 3
   },
   "file_extension": ".py",
   "mimetype": "text/x-python",
   "name": "python",
   "nbconvert_exporter": "python",
   "pygments_lexer": "ipython3",
   "version": "3.11.5"
  }
 },
 "nbformat": 4,
 "nbformat_minor": 5
}
