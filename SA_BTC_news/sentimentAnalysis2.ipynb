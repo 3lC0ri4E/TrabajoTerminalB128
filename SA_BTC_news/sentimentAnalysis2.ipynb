{
 "cells": [
  {
   "cell_type": "markdown",
   "id": "9d66a5d9-6713-4791-8eb2-d8aaafae5571",
   "metadata": {},
   "source": [
    "SENTIMENT ANALYSIS USING LLMs."
   ]
  },
  {
   "cell_type": "code",
   "execution_count": 1,
   "id": "fcf88ff6-ddce-4143-ba7e-aa360eea9d95",
   "metadata": {},
   "outputs": [
    {
     "name": "stdout",
     "output_type": "stream",
     "text": [
      "WARNING:tensorflow:From C:\\Users\\asael\\anaconda3\\Lib\\site-packages\\keras\\src\\losses.py:2976: The name tf.losses.sparse_softmax_cross_entropy is deprecated. Please use tf.compat.v1.losses.sparse_softmax_cross_entropy instead.\n",
      "\n"
     ]
    },
    {
     "name": "stderr",
     "output_type": "stream",
     "text": [
      "C:\\Users\\asael\\anaconda3\\Lib\\site-packages\\transformers\\utils\\generic.py:260: UserWarning: torch.utils._pytree._register_pytree_node is deprecated. Please use torch.utils._pytree.register_pytree_node instead.\n",
      "  torch.utils._pytree._register_pytree_node(\n"
     ]
    }
   ],
   "source": [
    "# Libraries.\n",
    "import pandas as pd\n",
    "import matplotlib.pyplot as plt\n",
    "import csv\n",
    "from sklearn.model_selection import train_test_split\n",
    "from sklearn.metrics import accuracy_score, f1_score\n",
    "import torch\n",
    "from transformers import AutoTokenizer, AutoModelForSequenceClassification, Trainer, TrainingArguments, AdamW"
   ]
  },
  {
   "cell_type": "code",
   "execution_count": 2,
   "id": "379255b0-c56e-44e9-83be-9569dec47b00",
   "metadata": {},
   "outputs": [],
   "source": [
    "# Reading news corpus.\n",
    "news = pd.read_csv('news_data.csv')"
   ]
  },
  {
   "cell_type": "code",
   "execution_count": 3,
   "id": "3881b7d5-1492-460d-9898-b703e3af3417",
   "metadata": {},
   "outputs": [],
   "source": [
    "# Counting NaN values and filling with ''.\n",
    "news['content'] = news['content'].fillna('')\n",
    "news['text'] = news['title'] + ' ' + news['description'] + ' ' + news['content']"
   ]
  },
  {
   "cell_type": "code",
   "execution_count": 4,
   "id": "44290536-68fd-47a5-b809-efd7be34e441",
   "metadata": {},
   "outputs": [],
   "source": [
    "# Function for predict sentiment for each new in 2 targets: positive and negative.\n",
    "def predict_sentiment(text):\n",
    "    inputs = tokenizer(text, return_tensors=\"pt\", padding=True, truncation=True)\n",
    "    with torch.no_grad():\n",
    "        outputs = model(**inputs)\n",
    "    logits = outputs.logits\n",
    "    probabilities = torch.softmax(logits, dim=1)\n",
    "    sentiment = torch.argmax(probabilities, dim=1).item() + 1  # 1 to 5 rating.\n",
    "    \n",
    "    # Mapping each target.\n",
    "    if sentiment in [1, 2]:\n",
    "        return 'Negativo'\n",
    "    else:\n",
    "        return 'Positivo'"
   ]
  },
  {
   "cell_type": "code",
   "execution_count": 5,
   "id": "cc63f083-0aaa-4c86-82b3-61b59ad3c94d",
   "metadata": {},
   "outputs": [
    {
     "name": "stderr",
     "output_type": "stream",
     "text": [
      "C:\\Users\\asael\\anaconda3\\Lib\\site-packages\\transformers\\utils\\generic.py:260: UserWarning: torch.utils._pytree._register_pytree_node is deprecated. Please use torch.utils._pytree.register_pytree_node instead.\n",
      "  torch.utils._pytree._register_pytree_node(\n"
     ]
    }
   ],
   "source": [
    "# Using LLM BERT Sentiment.\n",
    "model_name = \"nlptown/bert-base-multilingual-uncased-sentiment\"\n",
    "tokenizer = AutoTokenizer.from_pretrained(model_name)\n",
    "model = AutoModelForSequenceClassification.from_pretrained(model_name)"
   ]
  },
  {
   "cell_type": "code",
   "execution_count": 6,
   "id": "4066b8ff-932b-4ef8-b906-0f69ab454b29",
   "metadata": {},
   "outputs": [],
   "source": [
    "# Generating target for the corpus.\n",
    "news['sentiment'] = news['text'].apply(predict_sentiment)"
   ]
  },
  {
   "cell_type": "code",
   "execution_count": 7,
   "id": "d3a63ae6-44b4-4dc3-be49-b531e78c3f56",
   "metadata": {},
   "outputs": [],
   "source": [
    "# Mapping targets in numbers.\n",
    "label_mapping = {'Negativo': 0, 'Positivo': 1}\n",
    "news['rating'] = news['sentiment'].map(label_mapping)"
   ]
  },
  {
   "cell_type": "code",
   "execution_count": 8,
   "id": "669c9d6c-9cc4-4485-9d77-b57be93de7a1",
   "metadata": {},
   "outputs": [
    {
     "name": "stdout",
     "output_type": "stream",
     "text": [
      "                                                  text sentiment\n",
      "1     Bitcoin traders celebrate ‘good news’ as BTC ...  Positivo\n",
      "2     Bitcoin price shows strength above its recent...  Positivo\n",
      "5     Bitcoin ETFs need time to be ‘instrument of a...  Positivo\n",
      "7     Bitcoin ‘could very well catch fire’ as next ...  Positivo\n",
      "8     Bitcoin range recovery could boost UNI, SUI, ...  Positivo\n",
      "..                                                 ...       ...\n",
      "299  South Korea to discuss approval of spot Bitcoi...  Positivo\n",
      "305   Bitcoin’s indecisiveness could drive investor...  Positivo\n",
      "306   BTC price eyes sub-$65K hurdles as metric hin...  Positivo\n",
      "313  What Do Bitcoin Miners Expect Next? What are m...  Positivo\n",
      "315  V-shaped recoveries historically bullish for B...  Positivo\n",
      "\n",
      "[129 rows x 2 columns]\n"
     ]
    }
   ],
   "source": [
    "# Veryfing if we got it.\n",
    "neutral_news = news.loc[news['sentiment'] == 'Positivo']\n",
    "print(neutral_news[['text', 'sentiment']])"
   ]
  },
  {
   "cell_type": "code",
   "execution_count": 9,
   "id": "6c7b669a-4df5-4e37-8919-c449f64710e0",
   "metadata": {},
   "outputs": [
    {
     "name": "stdout",
     "output_type": "stream",
     "text": [
      "                                                  text sentiment\n",
      "0     Bitcoin in ‘seasonal slog’ with slim chance o...  Negativo\n",
      "1     Bitcoin traders celebrate ‘good news’ as BTC ...  Positivo\n",
      "2     Bitcoin price shows strength above its recent...  Positivo\n",
      "3     Bitcoin ETFs record combined $1.2B in outflow...  Negativo\n",
      "4     Is crypto entering a bear market? — 5 Things ...  Negativo\n",
      "..                                                 ...       ...\n",
      "315  V-shaped recoveries historically bullish for B...  Positivo\n",
      "316  New South Korean Regulator ‘Could Speed Up Bit...  Negativo\n",
      "317  Bitcoin Price Analysis: Mt. Gox’s Latest Repay...  Negativo\n",
      "318  Bitcoin Price Analysis: Current Bull Cycle Mir...  Negativo\n",
      "319  Bitcoin Price Forecast: Will Michigan Consumer...  Negativo\n",
      "\n",
      "[320 rows x 2 columns]\n"
     ]
    }
   ],
   "source": [
    "# Results.\n",
    "print(news[['text', 'sentiment']])"
   ]
  },
  {
   "cell_type": "code",
   "execution_count": 10,
   "id": "0f9a6ef3-c8ba-49a9-a98d-47f32c8f4030",
   "metadata": {},
   "outputs": [
    {
     "name": "stdout",
     "output_type": "stream",
     "text": [
      "204\n",
      "64\n",
      "52\n"
     ]
    }
   ],
   "source": [
    "# Splitting the corpis in 80% train set and 20% for test set.\n",
    "train_data, test_data = train_test_split(news, test_size=0.2, random_state=42)\n",
    "# Splitting train set in 80% to get the validation set in 20%.\n",
    "train_data, val_data = train_test_split(train_data, test_size=0.2, random_state=42)\n",
    "\n",
    "print(len(train_data))\n",
    "print(len(test_data))\n",
    "print(len(val_data))"
   ]
  },
  {
   "cell_type": "code",
   "execution_count": 11,
   "id": "993b1103-9499-481f-8802-69cd68c7b30d",
   "metadata": {},
   "outputs": [],
   "source": [
    "# Class.\n",
    "class Dataset(torch.utils.data.Dataset):\n",
    "    def __init__(self, texts, labels=None):\n",
    "        self.encodings = tokenizer(texts, padding=True, truncation=True, max_length=512)\n",
    "        self.labels = labels\n",
    "    def __getitem__(self, idx):\n",
    "        item = {key: torch.tensor(val[idx]) for key, val in self.encodings.items()}\n",
    "        if self.labels:\n",
    "            item[\"labels\"] = torch.tensor(self.labels[idx])\n",
    "        return item\n",
    "    def __len__(self):\n",
    "        return len(self.encodings[\"input_ids\"])"
   ]
  },
  {
   "cell_type": "code",
   "execution_count": 12,
   "id": "48aba580-f83a-4839-9b9e-42937bf97508",
   "metadata": {},
   "outputs": [],
   "source": [
    "# Datasets for each set.\n",
    "train_dataset = Dataset(train_data['text'].tolist(), train_data['rating'].tolist())\n",
    "val_dataset = Dataset(val_data['text'].tolist(), val_data['rating'].tolist())\n",
    "test_dataset = Dataset(test_data['text'].tolist(), test_data['rating'].tolist())"
   ]
  },
  {
   "cell_type": "code",
   "execution_count": 13,
   "id": "87218e7e-344d-48bc-96d8-128342421df3",
   "metadata": {},
   "outputs": [],
   "source": [
    "# Function metrcis.\n",
    "def compute_metrics(pred):\n",
    "    labels = pred.label_ids\n",
    "    preds = pred.predictions.argmax(-1)\n",
    "    f1 = f1_score(labels, preds, average=\"macro\")\n",
    "    acc = accuracy_score(labels, preds)\n",
    "    return {\"accuracy\": acc, \"f1\": f1}"
   ]
  },
  {
   "cell_type": "code",
   "execution_count": 14,
   "id": "df32c882-cd30-431c-b1c2-091470b15291",
   "metadata": {},
   "outputs": [],
   "source": [
    "# Configuration for training.\n",
    "training_args = TrainingArguments(\n",
    "    output_dir=\"output\",\n",
    "    evaluation_strategy=\"steps\",\n",
    "    eval_steps=100,\n",
    "    num_train_epochs=3,\n",
    "    learning_rate=2e-5,\n",
    "    per_device_train_batch_size=16,\n",
    "    per_device_eval_batch_size=16,\n",
    "    seed=0,\n",
    "    load_best_model_at_end=True,\n",
    "    fp16=False\n",
    ")"
   ]
  },
  {
   "cell_type": "code",
   "execution_count": 15,
   "id": "b07ef2cd-6659-4a79-9d89-ab6671f05ef3",
   "metadata": {},
   "outputs": [
    {
     "name": "stderr",
     "output_type": "stream",
     "text": [
      "C:\\Users\\asael\\anaconda3\\Lib\\site-packages\\transformers\\optimization.py:411: FutureWarning: This implementation of AdamW is deprecated and will be removed in a future version. Use the PyTorch implementation torch.optim.AdamW instead, or set `no_deprecation_warning=True` to disable this warning\n",
      "  warnings.warn(\n",
      "C:\\Users\\asael\\anaconda3\\Lib\\site-packages\\accelerate\\accelerator.py:444: FutureWarning: Passing the following arguments to `Accelerator` is deprecated and will be removed in version 1.0 of Accelerate: dict_keys(['dispatch_batches']). Please pass an `accelerate.DataLoaderConfiguration` instead: \n",
      "dataloader_config = DataLoaderConfiguration(dispatch_batches=None)\n",
      "  warnings.warn(\n",
      "You're using a BertTokenizerFast tokenizer. Please note that with a fast tokenizer, using the `__call__` method is faster than using a method to encode the text followed by a call to the `pad` method to get a padded encoding.\n"
     ]
    },
    {
     "data": {
      "text/html": [
       "\n",
       "    <div>\n",
       "      \n",
       "      <progress value='39' max='39' style='width:300px; height:20px; vertical-align: middle;'></progress>\n",
       "      [39/39 40:53, Epoch 3/3]\n",
       "    </div>\n",
       "    <table border=\"1\" class=\"dataframe\">\n",
       "  <thead>\n",
       " <tr style=\"text-align: left;\">\n",
       "      <th>Step</th>\n",
       "      <th>Training Loss</th>\n",
       "      <th>Validation Loss</th>\n",
       "    </tr>\n",
       "  </thead>\n",
       "  <tbody>\n",
       "  </tbody>\n",
       "</table><p>"
      ],
      "text/plain": [
       "<IPython.core.display.HTML object>"
      ]
     },
     "metadata": {},
     "output_type": "display_data"
    },
    {
     "data": {
      "text/plain": [
       "TrainOutput(global_step=39, training_loss=0.49708082737066805, metrics={'train_runtime': 2530.0125, 'train_samples_per_second': 0.242, 'train_steps_per_second': 0.015, 'total_flos': 161028303187968.0, 'train_loss': 0.49708082737066805, 'epoch': 3.0})"
      ]
     },
     "execution_count": 15,
     "metadata": {},
     "output_type": "execute_result"
    }
   ],
   "source": [
    "# AdamW Optimizer.\n",
    "optimizer = AdamW(model.parameters(), lr=2e-5)\n",
    "\n",
    "# Configurar el `Trainer`\n",
    "trainer = Trainer(\n",
    "    model=model,\n",
    "    args=training_args,\n",
    "    compute_metrics=compute_metrics,\n",
    "    train_dataset=train_dataset,\n",
    "    eval_dataset=val_dataset,\n",
    "    tokenizer=tokenizer,\n",
    "    optimizers=(optimizer, None)\n",
    ")\n",
    "\n",
    "# Train the model.\n",
    "trainer.train()"
   ]
  },
  {
   "cell_type": "code",
   "execution_count": 16,
   "id": "c82c3549-8341-42e0-9ae0-d2a4816a2f9f",
   "metadata": {},
   "outputs": [
    {
     "data": {
      "text/html": [],
      "text/plain": [
       "<IPython.core.display.HTML object>"
      ]
     },
     "metadata": {},
     "output_type": "display_data"
    },
    {
     "name": "stdout",
     "output_type": "stream",
     "text": [
      "{'test_loss': 0.36943575739860535, 'test_accuracy': 0.859375, 'test_f1': 0.8512012399896667, 'test_runtime': 100.5271, 'test_samples_per_second': 0.637, 'test_steps_per_second': 0.04}\n"
     ]
    }
   ],
   "source": [
    "# Evaluating model in test set.\n",
    "predictions = trainer.predict(test_dataset)\n",
    "print(predictions.metrics)"
   ]
  },
  {
   "cell_type": "code",
   "execution_count": 17,
   "id": "974c49f4-babf-45c2-9c1f-eac623f8da3c",
   "metadata": {},
   "outputs": [
    {
     "data": {
      "image/png": "[encoded data removed]",
      "text/plain": [
       "<Figure size 600x600 with 1 Axes>"
      ]
     },
     "metadata": {},
     "output_type": "display_data"
    },
    {
     "name": "stdout",
     "output_type": "stream",
     "text": [
      "              precision    recall  f1-score   support\n",
      "\n",
      "    Negativo       0.90      0.88      0.89        40\n",
      "    Positivo       0.80      0.83      0.82        24\n",
      "\n",
      "    accuracy                           0.86        64\n",
      "   macro avg       0.85      0.85      0.85        64\n",
      "weighted avg       0.86      0.86      0.86        64\n",
      "\n"
     ]
    }
   ],
   "source": [
    "# Confussion matrix to looke better the results.\n",
    "from sklearn.metrics import ConfusionMatrixDisplay, confusion_matrix, classification_report\n",
    "import numpy as np\n",
    "\n",
    "y_preds = np.argmax(predictions.predictions, axis=-1)\n",
    "y_test = test_data['rating'].tolist()\n",
    "\n",
    "# Graficar la matriz de confusión\n",
    "def plot_confusion_matrix(y_preds, y_true, labels):\n",
    "    cm = confusion_matrix(y_true, y_preds, normalize=\"true\")\n",
    "    fig, ax = plt.subplots(figsize=(6, 6))\n",
    "    disp = ConfusionMatrixDisplay(confusion_matrix=cm, display_labels=labels)\n",
    "    disp.plot(cmap=\"Blues\", values_format=\".2f\", ax=ax, colorbar=False)\n",
    "    plt.title(\"Normalized confusion matrix\")\n",
    "    plt.show()\n",
    "\n",
    "label_name = ['Negativo', 'Positivo']\n",
    "plot_confusion_matrix(y_preds, y_test, label_name)\n",
    "\n",
    "# Mostrar reporte de clasificación\n",
    "print(classification_report(y_test, y_preds, target_names=label_name))"
   ]
  },
  {
   "cell_type": "code",
   "execution_count": null,
   "id": "db86b192-ac40-4719-9b1f-0656b24d792c",
   "metadata": {},
   "outputs": [],
   "source": []
  }
 ],
 "metadata": {
  "kernelspec": {
   "display_name": "Python 3 (ipykernel)",
   "language": "python",
   "name": "python3"
  },
  "language_info": {
   "codemirror_mode": {
    "name": "ipython",
    "version": 3
   },
   "file_extension": ".py",
   "mimetype": "text/x-python",
   "name": "python",
   "nbconvert_exporter": "python",
   "pygments_lexer": "ipython3",
   "version": "3.11.5"
  }
 },
 "nbformat": 4,
 "nbformat_minor": 5
}
